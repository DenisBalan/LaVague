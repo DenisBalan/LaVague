{
  "cells": [
    {
      "cell_type": "markdown",
      "metadata": {
        "id": "57cUBU_kW8YI"
      },
      "source": [
        "# LaVague"
      ]
    },
    {
      "cell_type": "markdown",
      "metadata": {
        "id": "0jo-qziepeOj"
      },
      "source": [
        "## Choosing an inference engine\n",
        "\n",
        "LaVague works with two kind of inference:\n",
        "- Local\n",
        "- API with Hugging Face Inference API\n",
        "\n",
        "Local model allows full control over the experience, but might be slower to setup.\n",
        "Starting with Hugging Face Inference API is good for a quick start but lacks flexibility and control.\n",
        "\n",
        "Both options work, but in this Colab notebook, it might take longer to run with local model as weights download can take a while."
      ]
    },
    {
      "cell_type": "markdown",
      "metadata": {
        "id": "WgcPzmqUyGwB"
      },
      "source": [
        "### Hugging Face Inference API\n",
        "\n",
        "To have a fast and low-cost experience, we will use [Hugging Face Inference for PRO users](https://huggingface.co/blog/inference-pro).\n",
        "\n",
        "You will need a Hugging Face Hub Token to use the ``Nous-Hermes-2-Mixtral-8x7B-DPO`` model from the Inference API. You can get one by signing up on the [Hugging Face Hub](https://huggingface.co/join).\n",
        "\n",
        "If you prefer using a local model, you can provide Action engine with a DefaultLocalLLM, or import the Hugging Face model of your choice. The default local model is ``HuggingFaceH4/zephyr-7b-gemma-v0.1``.\n",
        "\n",
        "We will use a ``bge-small-en-v1.5`` to perform semantic search, but you can provide the embedder of your choice."
      ]
    },
    {
      "cell_type": "markdown",
      "metadata": {
        "id": "12OBKO8X1Mer"
      },
      "source": [
        "We use a specific prompt template that leverages Few shot learning with Chain of Thought to ensure the model performs correctly for our use case of Selenium code generation.\n",
        "\n",
        "You can have a look at the template [here](https://github.com/dhuynh95/LaVague/blob/main/prompt_template.txt)."
      ]
    },
    {
      "cell_type": "markdown",
      "metadata": {},
      "source": [
        "# Set up"
      ]
    },
    {
      "cell_type": "code",
      "execution_count": null,
      "metadata": {},
      "outputs": [],
      "source": [
        "!apt install ca-certificates fonts-liberation unzip \\\n",
        "    libappindicator3-1 libasound2 libatk-bridge2.0-0 libatk1.0-0 libc6 \\\n",
        "    libcairo2 libcups2 libdbus-1-3 libexpat1 libfontconfig1 libgbm1 \\\n",
        "    libgcc1 libglib2.0-0 libgtk-3-0 libnspr4 libnss3 libpango-1.0-0 \\\n",
        "    libpangocairo-1.0-0 libstdc++6 libx11-6 libx11-xcb1 libxcb1 \\\n",
        "    libxcomposite1 libxcursor1 libxdamage1 libxext6 libxfixes3 libxi6 \\\n",
        "    libxrandr2 libxrender1 libxss1 libxtst6 lsb-release wget xdg-utils\n",
        "\n",
        "!wget https://storage.googleapis.com/chrome-for-testing-public/122.0.6261.94/linux64/chrome-linux64.zip\n",
        "!wget https://storage.googleapis.com/chrome-for-testing-public/122.0.6261.94/linux64/chromedriver-linux64.zip\n",
        "!unzip chrome-linux64.zip\n",
        "!unzip chromedriver-linux64.zip\n",
        "!rm chrome-linux64.zip chromedriver-linux64.zip"
      ]
    },
    {
      "cell_type": "code",
      "execution_count": null,
      "metadata": {},
      "outputs": [],
      "source": [
        "!pip install lavague\n",
        "!pip install gradio"
      ]
    },
    {
      "cell_type": "markdown",
      "metadata": {
        "id": "2cu4DWoApeOl"
      },
      "source": [
        "## Code execution in action"
      ]
    },
    {
      "cell_type": "code",
      "execution_count": 3,
      "metadata": {},
      "outputs": [
        {
          "name": "stderr",
          "output_type": "stream",
          "text": [
            "/home/daniel/miniconda3/envs/code_rewrite/lib/python3.10/site-packages/tqdm/auto.py:21: TqdmWarning: IProgress not found. Please update jupyter and ipywidgets. See https://ipywidgets.readthedocs.io/en/stable/user_install.html\n",
            "  from .autonotebook import tqdm as notebook_tqdm\n"
          ]
        }
      ],
      "source": [
        "from llama_index.llms.huggingface import HuggingFaceInferenceAPI\n",
        "# If you want to use Hugging Face inference api, set up your Hugging Face api token here\n",
        "import os\n",
        "\n",
        "try:\n",
        "  from google.colab import userdata\n",
        "  HF_TOKEN = userdata.get('HF_TOKEN')\n",
        "except:\n",
        "  import os\n",
        "  HF_TOKEN = os.environ[\"HF_TOKEN\"]\n",
        "\n",
        "if not HF_TOKEN:\n",
        "  from getpass import getpass\n",
        "  HF_TOKEN = getpass('Enter your HF Token (https://huggingface.co/docs/hub/en/security-tokens): ')\n",
        "\n",
        "model_id = \"NousResearch/Nous-Hermes-2-Mixtral-8x7B-DPO\"\n",
        "max_new_tokens = 512\n",
        "\n",
        "# Monkey patch because stream_complete is not implemented in the current version of llama_index\n",
        "from llama_index.core.base.llms.types import (\n",
        "    CompletionResponse,\n",
        ")\n",
        "def stream_complete(\n",
        "    self, prompt: str, formatted: bool = False, **kwargs\n",
        "):\n",
        "  def gen():\n",
        "    text = \"\"\n",
        "    for x in self._sync_client.text_generation(\n",
        "            prompt, **{**{\"max_new_tokens\": self.num_output, \"stream\": True}, **kwargs}\n",
        "        ):\n",
        "      text += x\n",
        "      yield CompletionResponse(text=text, delta=x)\n",
        "  return gen()\n",
        "\n",
        "HuggingFaceInferenceAPI.stream_complete = stream_complete\n",
        "\n",
        "llm = HuggingFaceInferenceAPI(model_name=model_id, token=HF_TOKEN, num_output=max_new_tokens)\n",
        "\n",
        "from lavague.default_prompt import DEFAULT_PROMPT\n",
        "from lavague.ActionEngine import extract_first_python_code\n",
        "\n",
        "prompt_template = DEFAULT_PROMPT\n",
        "cleaning_function = extract_first_python_code"
      ]
    },
    {
      "cell_type": "markdown",
      "metadata": {},
      "source": [
        "## Beginning"
      ]
    },
    {
      "cell_type": "code",
      "execution_count": 1,
      "metadata": {},
      "outputs": [],
      "source": [
        "!pip install accelerate\n",
        "!pip install -i https://pypi.org/simple/ bitsandbytes"
      ]
    },
    {
      "cell_type": "code",
      "execution_count": 1,
      "metadata": {},
      "outputs": [
        {
          "name": "stderr",
          "output_type": "stream",
          "text": [
            "/home/daniel/miniconda3/envs/code_rewrite/lib/python3.10/site-packages/tqdm/auto.py:21: TqdmWarning: IProgress not found. Please update jupyter and ipywidgets. See https://ipywidgets.readthedocs.io/en/stable/user_install.html\n",
            "  from .autonotebook import tqdm as notebook_tqdm\n",
            "Loading checkpoint shards:  75%|███████▌  | 3/4 [00:58<00:19, 19.61s/it]"
          ]
        }
      ],
      "source": [
        "from llama_index.llms.huggingface import HuggingFaceLLM\n",
        "from transformers import AutoTokenizer, AutoModelForCausalLM, BitsAndBytesConfig\n",
        "import torch\n",
        "\n",
        "model_id = \"HuggingFaceH4/zephyr-7b-gemma-v0.1\"\n",
        "\n",
        "quantization_config = BitsAndBytesConfig(\n",
        "load_in_4bit=True,\n",
        "bnb_4bit_use_double_quant=True,\n",
        "bnb_4bit_quant_type=\"nf4\",\n",
        "bnb_4bit_compute_dtype=torch.bfloat16\n",
        ")\n",
        "\n",
        "tokenizer = AutoTokenizer.from_pretrained(model_id)\n",
        "model = AutoModelForCausalLM.from_pretrained(model_id, device_map=\"auto\", quantization_config=quantization_config)\n",
        "\n",
        "# We will stop generation as soon as the model outputs the end of Markdown to make inference faster\n",
        "stop_token_id = [tokenizer.convert_tokens_to_ids(\"```\"), tokenizer.convert_tokens_to_ids(\"``\")]\n",
        "llm = HuggingFaceLLM(model=model, tokenizer=tokenizer, max_new_tokens=1024, stopping_ids=stop_token_id)\n",
        "\n",
        "from lavague.default_prompt import GEMMA_PROMPT\n",
        "from lavague.ActionEngine import ActionEngine\n",
        "\n",
        "prompt_template = DEFAULT_PROMPT\n",
        "cleaning_function = lambda code: code.split(\"```\")[0]"
      ]
    },
    {
      "cell_type": "code",
      "execution_count": 4,
      "metadata": {
        "id": "e5k-Tw5EVZuA"
      },
      "outputs": [],
      "source": [
        "import gradio as gr\n",
        "from selenium import webdriver\n",
        "from selenium.webdriver.chrome.service import Service\n",
        "from selenium.webdriver.common.by import By\n",
        "from selenium.webdriver.chrome.options import Options\n",
        "from selenium.webdriver.common.keys import Keys\n",
        "\n",
        "from lavague.defaults import DefaultEmbedder\n",
        "from llama_index.llms.huggingface import HuggingFaceInferenceAPI\n",
        "\n",
        "MAX_CHARS = 1500\n",
        "\n",
        "# Use this action_engine instead to have a local inference\n",
        "# action_engine = ActionEngine(llm=DefaultLocalLLM())\n",
        "\n",
        "action_engine = ActionEngine(llm=llm, embedding=DefaultEmbedder(), prompt_template=prompt_template, cleaning_function=cleaning_function)\n",
        "\n",
        "## Setup chrome options\n",
        "chrome_options = Options()\n",
        "chrome_options.add_argument(\"--headless\") # Ensure GUI is off\n",
        "chrome_options.add_argument(\"--no-sandbox\")\n",
        "chrome_options.add_argument(\"--window-size=1600,900\")\n",
        "\n",
        "# Set path to chrome/chromedriver as per your configuration\n",
        "\n",
        "try:\n",
        "    import google.colab\n",
        "    chrome_options.binary_location = \"/content/chrome-linux64/chrome\"\n",
        "    webdriver_service = Service(\"/content/chromedriver-linux64/chromedriver\")\n",
        "except:\n",
        "    import os.path\n",
        "    homedir = os.path.expanduser(\"~\")\n",
        "    chrome_options.binary_location = f\"{homedir}/chrome-linux64/chrome\"\n",
        "    webdriver_service = Service(f\"{homedir}/chromedriver-linux64/chromedriver\")\n",
        "\n",
        "\n",
        "title = \"\"\"\n",
        "<div align=\"center\">\n",
        "  <h1>🌊 Welcome to LaVague</h1>\n",
        "  <p>Redefining internet surfing by transforming natural language instructions into seamless browser interactions.</p>\n",
        "</div>\n",
        "\"\"\"\n",
        "\n",
        "# Choose Chrome Browser\n",
        "driver = webdriver.Chrome(service=webdriver_service, options=chrome_options)\n",
        "\n",
        "# action_engine = ActionEngine(llm, embedder)\n",
        "\n",
        "def process_url(url):\n",
        "    driver.get(url)\n",
        "    driver.save_screenshot(\"screenshot.png\")\n",
        "    # This function is supposed to fetch and return the image from the URL.\n",
        "    # Placeholder function: replace with actual image fetching logic.\n",
        "    return \"screenshot.png\"\n",
        "\n",
        "def process_instruction(query, url_input):\n",
        "    if url_input != driver.current_url:\n",
        "        driver.get(url_input)\n",
        "    html = driver.page_source\n",
        "    code, source_nodes = action_engine.get_action(query, html)\n",
        "    print(code)\n",
        "    return code, source_nodes\n",
        "\n",
        "def exec_code(code, source_nodes, full_code):\n",
        "    html = driver.page_source\n",
        "    try:\n",
        "        exec(code)\n",
        "        output = \"Successful code execution\"\n",
        "        status = \"\"\"<p style=\"color: green; font-size: 20px; font-weight: bold;\">Success!</p>\"\"\"\n",
        "        full_code += code\n",
        "    except Exception as e:\n",
        "        output = f\"Error in code execution: {str(e)}\"\n",
        "        status = \"\"\"<p style=\"color: red; font-size: 20px; font-weight: bold;\">Failure! Open the Debug tab for more information</p>\"\"\"\n",
        "    return output, code, html, status, full_code\n",
        "\n",
        "def update_image_display(img):\n",
        "    driver.save_screenshot(\"screenshot.png\")\n",
        "    url = driver.current_url\n",
        "    return \"screenshot.png\", url\n",
        "\n",
        "def show_processing_message():\n",
        "    return \"Processing...\"\n",
        "\n",
        "def update_image_display(img):\n",
        "    driver.save_screenshot(\"screenshot.png\")\n",
        "    url = driver.current_url\n",
        "    return \"screenshot.png\", url\n",
        "\n",
        "def create_demo(base_url, instructions):\n",
        "  with gr.Blocks() as demo:\n",
        "      with gr.Tab(\"LaVague\"):\n",
        "        with gr.Row():\n",
        "            gr.HTML(title)\n",
        "        with gr.Row():\n",
        "            url_input = gr.Textbox(value=base_url, label=\"Enter URL and press 'Enter' to load the page.\")\n",
        "        \n",
        "        with gr.Row():\n",
        "            with gr.Column(scale=7):\n",
        "                image_display = gr.Image(label=\"Browser\", interactive=False)\n",
        "            \n",
        "            with gr.Column(scale=3):\n",
        "                with gr.Accordion(label=\"Full code\", open=False):\n",
        "                    full_code = gr.Code(value=\"\", language=\"python\", interactive=False)\n",
        "                code_display = gr.Code(label=\"Generated code\", language=\"python\",\n",
        "                                        lines=5, interactive=True)\n",
        "                \n",
        "                status_html = gr.HTML()\n",
        "        with gr.Row():\n",
        "            with gr.Column(scale=8):\n",
        "                text_area = gr.Textbox(label=\"Enter instructions and press 'Enter' to generate code.\")\n",
        "                gr.Examples(examples=instructions, inputs=text_area)\n",
        "      with gr.Tab(\"Debug\"):\n",
        "        with gr.Row():\n",
        "            with gr.Column():\n",
        "                log_display = gr.Textbox(interactive=False, lines=20)\n",
        "            with gr.Column():\n",
        "                source_display = gr.Code(language=\"html\", label=\"Retrieved nodes\", interactive=False, lines=20)\n",
        "        with gr.Row():\n",
        "            with gr.Accordion(label=\"Full HTML\", open=False):\n",
        "                full_html = gr.Code(language=\"html\", label=\"Full HTML\", interactive=False, lines=20)\n",
        "  \n",
        "      # Linking components\n",
        "      url_input.submit(process_url, inputs=url_input, outputs=image_display)\n",
        "      text_area.submit(show_processing_message, outputs=[status_html]).then(\n",
        "          process_instruction, inputs=[text_area, url_input], outputs=[code_display, source_display]\n",
        "          ).then(\n",
        "          exec_code, inputs=[code_display, source_display, full_code], \n",
        "          outputs=[log_display, code_display, full_html, status_html, full_code]\n",
        "      ).then(\n",
        "          update_image_display, inputs=image_display, outputs=[image_display, url_input]\n",
        "      )\n",
        "  demo.launch(share=True, debug=True)"
      ]
    },
    {
      "cell_type": "markdown",
      "metadata": {},
      "source": [
        "You can now try the demo with either the Hugging Face or the irs website!"
      ]
    },
    {
      "cell_type": "code",
      "execution_count": 5,
      "metadata": {
        "colab": {
          "base_uri": "https://localhost:8080/",
          "height": 591
        },
        "id": "9kPolvYHfFmA",
        "outputId": "828680f7-bd0e-456c-ec87-a308a0bb5454"
      },
      "outputs": [
        {
          "name": "stdout",
          "output_type": "stream",
          "text": [
            "Running on local URL:  http://127.0.0.1:7860\n",
            "Running on public URL: https://dd730b6846da0a7662.gradio.live\n",
            "\n",
            "This share link expires in 72 hours. For free permanent hosting and GPU upgrades, run `gradio deploy` from Terminal to deploy to Spaces (https://huggingface.co/spaces)\n"
          ]
        },
        {
          "data": {
            "text/html": [
              "<div><iframe src=\"https://dd730b6846da0a7662.gradio.live\" width=\"100%\" height=\"500\" allow=\"autoplay; camera; microphone; clipboard-read; clipboard-write;\" frameborder=\"0\" allowfullscreen></iframe></div>"
            ],
            "text/plain": [
              "<IPython.core.display.HTML object>"
            ]
          },
          "metadata": {},
          "output_type": "display_data"
        },
        {
          "name": "stderr",
          "output_type": "stream",
          "text": [
            "/home/daniel/miniconda3/envs/code_rewrite/lib/python3.10/site-packages/tree_sitter/__init__.py:36: FutureWarning: Language(path, name) is deprecated. Use Language(ptr, name) instead.\n",
            "  warn(\"{} is deprecated. Use {} instead.\".format(old, new), FutureWarning)\n"
          ]
        },
        {
          "name": "stdout",
          "output_type": "stream",
          "text": [
            "# First we need to identify the menu item first, then we can click on it.\n",
            "\n",
            "# Based on the HTML provided, we need to devise the best strategy to select the menu item.\n",
            "# The menu item can be identified using the text \"Datasets\"\n",
            "datasets_menu_item = driver.find_element(By.XPATH, \"//a[contains(text(), 'Datasets')]\")\n",
            "\n",
            "# Then we can click on it\n",
            "datasets_menu_item.click()\n",
            "\n"
          ]
        },
        {
          "name": "stderr",
          "output_type": "stream",
          "text": [
            "/home/daniel/miniconda3/envs/code_rewrite/lib/python3.10/site-packages/tree_sitter/__init__.py:36: FutureWarning: Language(path, name) is deprecated. Use Language(ptr, name) instead.\n",
            "  warn(\"{} is deprecated. Use {} instead.\".format(old, new), FutureWarning)\n"
          ]
        },
        {
          "name": "stdout",
          "output_type": "stream",
          "text": [
            "# First we need to identify the component first, then we can click on it.\n",
            "\n",
            "# Based on the HTML, the link can be uniquely identified using the class \"w-full rounded-full border border-gray-200 text-sm placeholder-gray-400 shadow-inner outline-none focus:shadow-xl focus:ring-1 focus:ring-inset dark:bg-gray-950 h-7 pl-7\"\n",
            "# Let's use this class with Selenium to identify the link\n",
            "search_bar = driver.find_element(By.XPATH, \"//*[@class='w-full rounded-full border border-gray-200 text-sm placeholder-gray-400 shadow-inner outline-none focus:shadow-xl focus:ring-1 focus:ring-inset dark:bg-gray-950 h-7 pl-7']\")\n",
            "\n",
            "search_bar.click()\n",
            "\n",
            "# Now we can type the asked input\n",
            "search_bar.send_keys(\"The Stack\")\n",
            "\n",
            "# Finally we can press the 'Enter' key\n",
            "search_bar.send_keys(Keys.ENTER)\n",
            "\n"
          ]
        },
        {
          "name": "stderr",
          "output_type": "stream",
          "text": [
            "/home/daniel/miniconda3/envs/code_rewrite/lib/python3.10/site-packages/tree_sitter/__init__.py:36: FutureWarning: Language(path, name) is deprecated. Use Language(ptr, name) instead.\n",
            "  warn(\"{} is deprecated. Use {} instead.\".format(old, new), FutureWarning)\n"
          ]
        },
        {
          "name": "stdout",
          "output_type": "stream",
          "text": [
            "# We don't need to use the HTML data as this is a stateless operation.\n",
            "# 500 pixels should be sufficient. Let's execute the JavaScript to scroll up.\n",
            "\n",
            "driver.execute_script(\"window.scrollBy(0, 500)\")\n",
            "\n"
          ]
        }
      ],
      "source": [
        "base_url = \"https://huggingface.co/\"\n",
        "\n",
        "instructions = [\"Click on the Datasets item on the menu, between Models and Spaces\",\n",
        "                \"Click on the search bar 'Filter by name', type 'The Stack', and press 'Enter'\",\n",
        "                \"Scroll by 500 pixels\",]\n",
        "\n",
        "create_demo(base_url, instructions)"
      ]
    },
    {
      "cell_type": "code",
      "execution_count": null,
      "metadata": {
        "colab": {
          "base_uri": "https://localhost:8080/",
          "height": 591
        },
        "id": "MrQ82tgr4_zt",
        "outputId": "0c1f0678-93cd-4cbf-db75-88d9988cdaf8"
      },
      "outputs": [],
      "source": [
        "base_url = \"https://www.irs.gov/\"\n",
        "\n",
        "instructions = [\"Click on the 'Pay' item on the menu, between 'File' and 'Refunds'\",\n",
        "                \"Click on 'Pay Now with Direct Pay' just below 'Pay from your Bank Account'\",\n",
        "                \"Click on 'Make a Payment', just above 'Answers to common questions'\",]\n",
        "\n",
        "create_demo(base_url, instructions)"
      ]
    }
  ],
  "metadata": {
    "accelerator": "GPU",
    "colab": {
      "gpuType": "T4",
      "machine_shape": "hm",
      "provenance": []
    },
    "kernelspec": {
      "display_name": "Python 3",
      "name": "python3"
    },
    "language_info": {
      "codemirror_mode": {
        "name": "ipython",
        "version": 3
      },
      "file_extension": ".py",
      "mimetype": "text/x-python",
      "name": "python",
      "nbconvert_exporter": "python",
      "pygments_lexer": "ipython3",
      "version": "3.10.13"
    },
    "widgets": {
      "application/vnd.jupyter.widget-state+json": {
        "0d9126c291a04e8fb1ce30a7103197d1": {
          "model_module": "@jupyter-widgets/base",
          "model_module_version": "1.2.0",
          "model_name": "LayoutModel",
          "state": {
            "_model_module": "@jupyter-widgets/base",
            "_model_module_version": "1.2.0",
            "_model_name": "LayoutModel",
            "_view_count": null,
            "_view_module": "@jupyter-widgets/base",
            "_view_module_version": "1.2.0",
            "_view_name": "LayoutView",
            "align_content": null,
            "align_items": null,
            "align_self": null,
            "border": null,
            "bottom": null,
            "display": null,
            "flex": null,
            "flex_flow": null,
            "grid_area": null,
            "grid_auto_columns": null,
            "grid_auto_flow": null,
            "grid_auto_rows": null,
            "grid_column": null,
            "grid_gap": null,
            "grid_row": null,
            "grid_template_areas": null,
            "grid_template_columns": null,
            "grid_template_rows": null,
            "height": null,
            "justify_content": null,
            "justify_items": null,
            "left": null,
            "margin": null,
            "max_height": null,
            "max_width": null,
            "min_height": null,
            "min_width": null,
            "object_fit": null,
            "object_position": null,
            "order": null,
            "overflow": null,
            "overflow_x": null,
            "overflow_y": null,
            "padding": null,
            "right": null,
            "top": null,
            "visibility": null,
            "width": null
          }
        },
        "15c0d6723eba4298b61ddd67c1595f66": {
          "model_module": "@jupyter-widgets/controls",
          "model_module_version": "1.5.0",
          "model_name": "FloatProgressModel",
          "state": {
            "_dom_classes": [],
            "_model_module": "@jupyter-widgets/controls",
            "_model_module_version": "1.5.0",
            "_model_name": "FloatProgressModel",
            "_view_count": null,
            "_view_module": "@jupyter-widgets/controls",
            "_view_module_version": "1.5.0",
            "_view_name": "ProgressView",
            "bar_style": "success",
            "description": "",
            "description_tooltip": null,
            "layout": "IPY_MODEL_0d9126c291a04e8fb1ce30a7103197d1",
            "max": 4,
            "min": 0,
            "orientation": "horizontal",
            "style": "IPY_MODEL_a36c6df55813490a9e0b42b67a698327",
            "value": 4
          }
        },
        "2600f072828a4abf8e8ed51cd64f2dc2": {
          "model_module": "@jupyter-widgets/controls",
          "model_module_version": "1.5.0",
          "model_name": "HTMLModel",
          "state": {
            "_dom_classes": [],
            "_model_module": "@jupyter-widgets/controls",
            "_model_module_version": "1.5.0",
            "_model_name": "HTMLModel",
            "_view_count": null,
            "_view_module": "@jupyter-widgets/controls",
            "_view_module_version": "1.5.0",
            "_view_name": "HTMLView",
            "description": "",
            "description_tooltip": null,
            "layout": "IPY_MODEL_984f401572a645f7861db035993c806b",
            "placeholder": "​",
            "style": "IPY_MODEL_2ba0655ceb93417d859921bf08b5ec9d",
            "value": "Loading checkpoint shards: 100%"
          }
        },
        "2ba0655ceb93417d859921bf08b5ec9d": {
          "model_module": "@jupyter-widgets/controls",
          "model_module_version": "1.5.0",
          "model_name": "DescriptionStyleModel",
          "state": {
            "_model_module": "@jupyter-widgets/controls",
            "_model_module_version": "1.5.0",
            "_model_name": "DescriptionStyleModel",
            "_view_count": null,
            "_view_module": "@jupyter-widgets/base",
            "_view_module_version": "1.2.0",
            "_view_name": "StyleView",
            "description_width": ""
          }
        },
        "398c2359c137457b94fe7ed7b8c4b939": {
          "model_module": "@jupyter-widgets/controls",
          "model_module_version": "1.5.0",
          "model_name": "HBoxModel",
          "state": {
            "_dom_classes": [],
            "_model_module": "@jupyter-widgets/controls",
            "_model_module_version": "1.5.0",
            "_model_name": "HBoxModel",
            "_view_count": null,
            "_view_module": "@jupyter-widgets/controls",
            "_view_module_version": "1.5.0",
            "_view_name": "HBoxView",
            "box_style": "",
            "children": [
              "IPY_MODEL_2600f072828a4abf8e8ed51cd64f2dc2",
              "IPY_MODEL_15c0d6723eba4298b61ddd67c1595f66",
              "IPY_MODEL_d1a4215edd20433482d339c83c9d0060"
            ],
            "layout": "IPY_MODEL_c71a506bf63948c8bfb79b6811705de5"
          }
        },
        "777ac9bad3974a2ab7062644bda6a3c6": {
          "model_module": "@jupyter-widgets/controls",
          "model_module_version": "1.5.0",
          "model_name": "DescriptionStyleModel",
          "state": {
            "_model_module": "@jupyter-widgets/controls",
            "_model_module_version": "1.5.0",
            "_model_name": "DescriptionStyleModel",
            "_view_count": null,
            "_view_module": "@jupyter-widgets/base",
            "_view_module_version": "1.2.0",
            "_view_name": "StyleView",
            "description_width": ""
          }
        },
        "984f401572a645f7861db035993c806b": {
          "model_module": "@jupyter-widgets/base",
          "model_module_version": "1.2.0",
          "model_name": "LayoutModel",
          "state": {
            "_model_module": "@jupyter-widgets/base",
            "_model_module_version": "1.2.0",
            "_model_name": "LayoutModel",
            "_view_count": null,
            "_view_module": "@jupyter-widgets/base",
            "_view_module_version": "1.2.0",
            "_view_name": "LayoutView",
            "align_content": null,
            "align_items": null,
            "align_self": null,
            "border": null,
            "bottom": null,
            "display": null,
            "flex": null,
            "flex_flow": null,
            "grid_area": null,
            "grid_auto_columns": null,
            "grid_auto_flow": null,
            "grid_auto_rows": null,
            "grid_column": null,
            "grid_gap": null,
            "grid_row": null,
            "grid_template_areas": null,
            "grid_template_columns": null,
            "grid_template_rows": null,
            "height": null,
            "justify_content": null,
            "justify_items": null,
            "left": null,
            "margin": null,
            "max_height": null,
            "max_width": null,
            "min_height": null,
            "min_width": null,
            "object_fit": null,
            "object_position": null,
            "order": null,
            "overflow": null,
            "overflow_x": null,
            "overflow_y": null,
            "padding": null,
            "right": null,
            "top": null,
            "visibility": null,
            "width": null
          }
        },
        "a36c6df55813490a9e0b42b67a698327": {
          "model_module": "@jupyter-widgets/controls",
          "model_module_version": "1.5.0",
          "model_name": "ProgressStyleModel",
          "state": {
            "_model_module": "@jupyter-widgets/controls",
            "_model_module_version": "1.5.0",
            "_model_name": "ProgressStyleModel",
            "_view_count": null,
            "_view_module": "@jupyter-widgets/base",
            "_view_module_version": "1.2.0",
            "_view_name": "StyleView",
            "bar_color": null,
            "description_width": ""
          }
        },
        "c71a506bf63948c8bfb79b6811705de5": {
          "model_module": "@jupyter-widgets/base",
          "model_module_version": "1.2.0",
          "model_name": "LayoutModel",
          "state": {
            "_model_module": "@jupyter-widgets/base",
            "_model_module_version": "1.2.0",
            "_model_name": "LayoutModel",
            "_view_count": null,
            "_view_module": "@jupyter-widgets/base",
            "_view_module_version": "1.2.0",
            "_view_name": "LayoutView",
            "align_content": null,
            "align_items": null,
            "align_self": null,
            "border": null,
            "bottom": null,
            "display": null,
            "flex": null,
            "flex_flow": null,
            "grid_area": null,
            "grid_auto_columns": null,
            "grid_auto_flow": null,
            "grid_auto_rows": null,
            "grid_column": null,
            "grid_gap": null,
            "grid_row": null,
            "grid_template_areas": null,
            "grid_template_columns": null,
            "grid_template_rows": null,
            "height": null,
            "justify_content": null,
            "justify_items": null,
            "left": null,
            "margin": null,
            "max_height": null,
            "max_width": null,
            "min_height": null,
            "min_width": null,
            "object_fit": null,
            "object_position": null,
            "order": null,
            "overflow": null,
            "overflow_x": null,
            "overflow_y": null,
            "padding": null,
            "right": null,
            "top": null,
            "visibility": null,
            "width": null
          }
        },
        "d1a4215edd20433482d339c83c9d0060": {
          "model_module": "@jupyter-widgets/controls",
          "model_module_version": "1.5.0",
          "model_name": "HTMLModel",
          "state": {
            "_dom_classes": [],
            "_model_module": "@jupyter-widgets/controls",
            "_model_module_version": "1.5.0",
            "_model_name": "HTMLModel",
            "_view_count": null,
            "_view_module": "@jupyter-widgets/controls",
            "_view_module_version": "1.5.0",
            "_view_name": "HTMLView",
            "description": "",
            "description_tooltip": null,
            "layout": "IPY_MODEL_ec5d092ea24946279f14f03570a48c98",
            "placeholder": "​",
            "style": "IPY_MODEL_777ac9bad3974a2ab7062644bda6a3c6",
            "value": " 4/4 [00:12&lt;00:00,  2.89s/it]"
          }
        },
        "ec5d092ea24946279f14f03570a48c98": {
          "model_module": "@jupyter-widgets/base",
          "model_module_version": "1.2.0",
          "model_name": "LayoutModel",
          "state": {
            "_model_module": "@jupyter-widgets/base",
            "_model_module_version": "1.2.0",
            "_model_name": "LayoutModel",
            "_view_count": null,
            "_view_module": "@jupyter-widgets/base",
            "_view_module_version": "1.2.0",
            "_view_name": "LayoutView",
            "align_content": null,
            "align_items": null,
            "align_self": null,
            "border": null,
            "bottom": null,
            "display": null,
            "flex": null,
            "flex_flow": null,
            "grid_area": null,
            "grid_auto_columns": null,
            "grid_auto_flow": null,
            "grid_auto_rows": null,
            "grid_column": null,
            "grid_gap": null,
            "grid_row": null,
            "grid_template_areas": null,
            "grid_template_columns": null,
            "grid_template_rows": null,
            "height": null,
            "justify_content": null,
            "justify_items": null,
            "left": null,
            "margin": null,
            "max_height": null,
            "max_width": null,
            "min_height": null,
            "min_width": null,
            "object_fit": null,
            "object_position": null,
            "order": null,
            "overflow": null,
            "overflow_x": null,
            "overflow_y": null,
            "padding": null,
            "right": null,
            "top": null,
            "visibility": null,
            "width": null
          }
        }
      }
    }
  },
  "nbformat": 4,
  "nbformat_minor": 0
}
